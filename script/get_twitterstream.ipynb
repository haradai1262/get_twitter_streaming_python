{
 "cells": [
  {
   "cell_type": "code",
   "execution_count": 1,
   "metadata": {},
   "outputs": [],
   "source": [
    "import os, sys, json\n",
    "import tweepy"
   ]
  },
  {
   "cell_type": "code",
   "execution_count": null,
   "metadata": {},
   "outputs": [],
   "source": [
    "class StdOutListener(tweepy.StreamListener):\n",
    "    def on_data(self, data):\n",
    "        global stream_num\n",
    "        global dir_idx\n",
    "        \n",
    "        tweet = json.loads(data)\n",
    "        if not tweet['retweeted'] and 'RT @' not in tweet['text']: # retweetは取得しない\n",
    "            save_path = \"%s/%s.json\" % ( query_dir, tweet[\"id_str\"] )\n",
    "            f = open(save_path, \"w\")\n",
    "            json.dump(tweet, f)\n",
    "            f.close()\n",
    "            stream_num += 1\n",
    "            return True\n",
    "        return True\n",
    "\n",
    "    def on_error(self, status):\n",
    "        print( status )"
   ]
  },
  {
   "cell_type": "code",
   "execution_count": null,
   "metadata": {},
   "outputs": [
    {
     "name": "stdout",
     "output_type": "stream",
     "text": [
      "target query: #乃木坂工事中\n"
     ]
    }
   ],
   "source": [
    "if __name__ == '__main__':\n",
    "    query = \"#乃木坂工事中\" # 取得したいツイートに含まれるキーワード\n",
    "\n",
    "    with open( '../secret/twitterapi.json', 'r') as f: key_dic = json.load(f)\n",
    "    key_id = \"10\"\n",
    "    savepath =  \"../data/tweet\"\n",
    "    query_dir = \"%s/%s\" % (savepath, query)\n",
    "    if not os.path.exists( query_dir ):\n",
    "        os.mkdir(query_dir)\n",
    "\n",
    "    stream_num = 0\n",
    "\n",
    "    l = StdOutListener()\n",
    "    auth = tweepy.OAuthHandler( key_dic[key_id][\"app_key\"],\n",
    "                                key_dic[key_id][\"app_secret\"] )\n",
    "    auth.set_access_token( key_dic[key_id][\"oauth_token\"],\n",
    "                           key_dic[key_id][\"oauth_token_secret\"] )\n",
    "\n",
    "    def start_stream():\n",
    "        while True :\n",
    "            stream = tweepy.Stream(auth, l)\n",
    "            stream.filter(track = [query])\n",
    "\n",
    "    print( 'target query:', query )\n",
    "    start_stream()"
   ]
  },
  {
   "cell_type": "code",
   "execution_count": null,
   "metadata": {},
   "outputs": [],
   "source": []
  }
 ],
 "metadata": {
  "kernelspec": {
   "display_name": "Python 3",
   "language": "python",
   "name": "python3"
  },
  "language_info": {
   "codemirror_mode": {
    "name": "ipython",
    "version": 3
   },
   "file_extension": ".py",
   "mimetype": "text/x-python",
   "name": "python",
   "nbconvert_exporter": "python",
   "pygments_lexer": "ipython3",
   "version": "3.7.1"
  }
 },
 "nbformat": 4,
 "nbformat_minor": 2
}
